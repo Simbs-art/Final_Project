{
 "cells": [
  {
   "cell_type": "markdown",
   "id": "605753cb",
   "metadata": {},
   "source": [
    "Interpretation of Each Group - TABLEAU RESULT\n",
    "1. Actual High / Predicted High\n",
    "- The Transportation Expense bar is the tallest (13K), followed by Distance (1.5K).\n",
    "- This suggests that when absenteeism is correctly predicted as High, these employees tend to have:\n",
    "     - Very high transportation expenses\n",
    "     - Longer commute distances\n",
    "     - These are strong drivers of high absenteeism.\n",
    "\n",
    "2. Actual High / Predicted Low\n",
    "- All bars are relatively low here.\n",
    "- This suggests that misclassified high-absentee employees had lower values in all 4 features.\n",
    "- This could indicate non-obvious cases (e.g., someone close to work but still often absent for health or family issues).\n",
    "\n",
    "3. Actual Low / Predicted High\n",
    "- Again, lower bar heights.\n",
    "- Shows that people with lower absenteeism were sometimes predicted as High, potentially due to:\n",
    "     - Moderate transportation or distance values that the model misinterpreted.\n",
    "     - Overfitting to noise in these features.\n",
    "\n",
    "4. Actual Low / Predicted Low\n",
    "- Again, Transportation Expense dominates, followed by Distance.\n",
    "- Even low-absenteeism employees have non-trivial transport costs.\n",
    "- The model seems to recognize that moderate expenses/distance don't necessarily lead to high absenteeism."
   ]
  }
 ],
 "metadata": {
  "language_info": {
   "name": "python"
  }
 },
 "nbformat": 4,
 "nbformat_minor": 5
}
